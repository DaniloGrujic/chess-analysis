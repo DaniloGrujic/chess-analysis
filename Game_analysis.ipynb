{
 "cells": [
  {
   "cell_type": "markdown",
   "id": "4a1b6368-7f2a-420a-bacd-a4954970f0f5",
   "metadata": {},
   "source": [
    "# Games Analysis"
   ]
  },
  {
   "cell_type": "markdown",
   "id": "006ef262-16a8-43f9-b0d6-35d1cfbe777b",
   "metadata": {},
   "source": [
    "## Code that alows iterating over games"
   ]
  },
  {
   "cell_type": "code",
   "execution_count": 13,
   "id": "78970f53-aedc-4844-9e02-17dae135fbdd",
   "metadata": {},
   "outputs": [
    {
     "data": {
      "application/vnd.jupyter.widget-view+json": {
       "model_id": "4fa5451c38324d47917d851e992d2548",
       "version_major": 2,
       "version_minor": 0
      },
      "text/plain": [
       "HBox(children=(Output(), VBox(children=(HBox(children=(Button(description='Restart Game', style=ButtonStyle())…"
      ]
     },
     "metadata": {},
     "output_type": "display_data"
    }
   ],
   "source": [
    "import chess\n",
    "import chess.pgn\n",
    "import chess.svg\n",
    "from IPython.display import SVG, display, clear_output\n",
    "import ipywidgets as widgets\n",
    "from ipywidgets import HBox, VBox\n",
    "import io\n",
    "\n",
    "pgn = io.StringIO('1. d4 e6 2. Bf4 d5 3. Nf3 Bd6 4. Bg3 Nc6 5. e3 Nf6 6. Nbd2 Ne4 7. Nxe4 dxe4 8. Nd2 f5 9. Qh5+ g6 10. Qh6 Bf8 11. Qf4 Bd6 12. Qh6 Bxg3 13. hxg3 Qe7 14. Nc4 Bd7 15. O-O-O O-O-O 16. Qh4 Qb4 17. Qf4 b5 18. Nd2 Qa4 19. Kb1 Nb4 20. a3 Qxc2+ 21. Ka1 Qxd1+ 22. Nb1 Nc2+ 23. Ka2 b4 24. Ba6+ Kb8 25. Rxd1 e5 26. Qxe5 Rhe8 27. Qc5 bxa3 28. Qxc2')\n",
    "game_pgn = chess.pgn.read_game(pgn)\n",
    "notation = list(game_pgn.mainline_moves())\n",
    "\n",
    "class ChessGame:\n",
    "    def __init__(self, notation):\n",
    "        self.board = chess.Board()\n",
    "        self.moves_sequence = notation.copy()\n",
    "        self.output = widgets.Output()\n",
    "        self.notation = notation\n",
    "\n",
    "    def display_board(self, size):\n",
    "        with self.output:\n",
    "            clear_output(wait=True)\n",
    "            display(SVG(chess.svg.board(board=self.board, size=size)))\n",
    "\n",
    "    def handle_next_move(self, _):\n",
    "        with self.output:\n",
    "            if self.moves_sequence:\n",
    "                move = self.moves_sequence.pop(0)\n",
    "                try:\n",
    "                    self.board.push(move)\n",
    "                    self.display_board(size=500)\n",
    "                except Exception as e:\n",
    "                    print(f\"Error: {e}\")\n",
    "            else:\n",
    "                print(\"No more moves in the sequence.\")\n",
    "\n",
    "    def restart_game(self, _):\n",
    "        with self.output:\n",
    "            self.moves_sequence = self.notation.copy()\n",
    "            self.board = chess.Board()\n",
    "            self.move = None\n",
    "            self.display_board(size=500)\n",
    "        \n",
    "\n",
    "# Create an instance of the ChessGame class\n",
    "game = ChessGame(notation)\n",
    "\n",
    "# Create a button to go to the next move\n",
    "next_button = widgets.Button(description=\"Next Move\")\n",
    "next_button.on_click(game.handle_next_move)\n",
    "\n",
    "restart_button = widgets.Button(description=\"Restart Game\")\n",
    "restart_button.on_click(game.restart_game)\n",
    "\n",
    "select_box = widgets.Select(options=['game1', 'game2', 'game3'], \n",
    "                            value='game1',\n",
    "                            description='Select game:',\n",
    "                            rows=10, \n",
    "                            disabled=False)\n",
    "\n",
    "# Display the initial chess board with a specified size\n",
    "game.display_board(size=500)  # Adjust the size as needed\n",
    "\n",
    "\n",
    "h_box = HBox([restart_button, next_button])\n",
    "v_box = VBox([h_box, select_box])\n",
    "combined_buttons = HBox([game.output, v_box])\n",
    "\n",
    "# display(game.output)\n",
    "display(combined_buttons)"
   ]
  },
  {
   "cell_type": "code",
   "execution_count": null,
   "id": "1e73b70b-f9ca-4bf6-87dd-349d8fe2815e",
   "metadata": {},
   "outputs": [],
   "source": []
  }
 ],
 "metadata": {
  "kernelspec": {
   "display_name": "chess",
   "language": "python",
   "name": "chess"
  },
  "language_info": {
   "codemirror_mode": {
    "name": "ipython",
    "version": 3
   },
   "file_extension": ".py",
   "mimetype": "text/x-python",
   "name": "python",
   "nbconvert_exporter": "python",
   "pygments_lexer": "ipython3",
   "version": "3.11.3"
  }
 },
 "nbformat": 4,
 "nbformat_minor": 5
}
